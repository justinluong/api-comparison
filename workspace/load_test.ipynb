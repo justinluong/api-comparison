{
 "cells": [
  {
   "cell_type": "code",
   "execution_count": null,
   "metadata": {},
   "outputs": [],
   "source": [
    "import subprocess\n",
    "import os\n",
    "import pandas as pd\n",
    "import matplotlib.pyplot as plt\n",
    "from typing import Dict, Any\n",
    "\n",
    "# Constants\n",
    "FLASK_HOST: str = \"127.0.0.1:5000\"\n",
    "FASTAPI_HOST: str = \"127.0.0.1:8000\"\n",
    "USERS: list[int] = [100, 200, 300, 400, 500]  # Example user increments\n",
    "SPAWN_RATE: int = 50\n",
    "RUN_TIME: str = \"30s\"\n",
    "RESULTS_DIR: str = \"results\"\n",
    "\n",
    "# Ensure results directory exists\n",
    "os.makedirs(RESULTS_DIR, exist_ok=True)\n",
    "\n",
    "\n",
    "def run_test(api_name: str, host: str) -> Dict[str, list[float]]:\n",
    "    \"\"\"\n",
    "    Runs tests for the given API and returns a dictionary with average and max response times.\n",
    "    \"\"\"\n",
    "    avg_response_times: list[float] = []\n",
    "    max_response_times: list[float] = []\n",
    "    for users in USERS:\n",
    "        print(f\"Running test for {api_name} with {users} users...\")\n",
    "        result_file_prefix: str = f\"{RESULTS_DIR}/{api_name}_{users}_users\"\n",
    "        cmd: str = (\n",
    "            f\"locust --host=http://{host} --headless --users={users} --spawn-rate={SPAWN_RATE} --run-time={RUN_TIME} --csv={result_file_prefix}\"\n",
    "        )\n",
    "        subprocess.run(cmd, check=True, shell=True)\n",
    "        result_file: str = f\"{result_file_prefix}_stats.csv\"\n",
    "        df: pd.DataFrame = pd.read_csv(result_file)\n",
    "        avg_response_times.append(df[\"Average Response Time (ms)\"][0])\n",
    "        max_response_times.append(df[\"Max Response Time (ms)\"][0])\n",
    "\n",
    "    return {\n",
    "        \"avg_response_times\": avg_response_times,\n",
    "        \"max_response_times\": max_response_times,\n",
    "    }\n",
    "\n",
    "\n",
    "def plot_results(results: Dict[str, Dict[str, list[float]]]) -> None:\n",
    "    \"\"\"\n",
    "    Plots the results of the API tests.\n",
    "    \"\"\"\n",
    "    plt.figure(figsize=(12, 6))\n",
    "    for i, (api_name, times) in enumerate(results.items(), start=1):\n",
    "        plt.subplot(1, 2, i)\n",
    "        plt.plot(\n",
    "            USERS,\n",
    "            times[\"avg_response_times\"],\n",
    "            marker=\"o\",\n",
    "            linestyle=\"-\",\n",
    "            color=\"b\",\n",
    "            label=\"Average Response Time\",\n",
    "        )\n",
    "        plt.plot(\n",
    "            USERS,\n",
    "            times[\"max_response_times\"],\n",
    "            marker=\"o\",\n",
    "            linestyle=\"-\",\n",
    "            color=\"r\",\n",
    "            label=\"Max Response Time\",\n",
    "        )\n",
    "        plt.title(f\"Response Times - {api_name}\")\n",
    "        plt.xlabel(\"Number of Users\")\n",
    "        plt.ylabel(\"Response Time (ms)\")\n",
    "        plt.legend()\n",
    "    plt.tight_layout()\n",
    "    plt.show()\n",
    "\n",
    "\n"
   ]
  },
  {
   "cell_type": "code",
   "execution_count": null,
   "metadata": {},
   "outputs": [],
   "source": [
    "results: Dict[str, Dict[str, Any]] = {\n",
    "    \"Flask\": run_test(\"flask\", FLASK_HOST),\n",
    "    \"FastAPI\": run_test(\"fastapi\", FASTAPI_HOST),\n",
    "}\n"
   ]
  },
  {
   "cell_type": "code",
   "execution_count": null,
   "metadata": {},
   "outputs": [],
   "source": [
    "plot_results(results)"
   ]
  }
 ],
 "metadata": {
  "kernelspec": {
   "display_name": ".venv",
   "language": "python",
   "name": "python3"
  },
  "language_info": {
   "codemirror_mode": {
    "name": "ipython",
    "version": 3
   },
   "file_extension": ".py",
   "mimetype": "text/x-python",
   "name": "python",
   "nbconvert_exporter": "python",
   "pygments_lexer": "ipython3",
   "version": "3.10.9"
  }
 },
 "nbformat": 4,
 "nbformat_minor": 2
}
