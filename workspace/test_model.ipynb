{
 "cells": [
  {
   "cell_type": "code",
   "execution_count": 1,
   "metadata": {},
   "outputs": [],
   "source": [
    "from comparison.sentiment import TorchSentimentClassifier"
   ]
  },
  {
   "cell_type": "code",
   "execution_count": 2,
   "metadata": {},
   "outputs": [
    {
     "name": "stderr",
     "output_type": "stream",
     "text": [
      "Some weights of the model checkpoint at cardiffnlp/twitter-roberta-base-sentiment-latest were not used when initializing RobertaForSequenceClassification: ['roberta.pooler.dense.bias', 'roberta.pooler.dense.weight']\n",
      "- This IS expected if you are initializing RobertaForSequenceClassification from the checkpoint of a model trained on another task or with another architecture (e.g. initializing a BertForSequenceClassification model from a BertForPreTraining model).\n",
      "- This IS NOT expected if you are initializing RobertaForSequenceClassification from the checkpoint of a model that you expect to be exactly identical (initializing a BertForSequenceClassification model from a BertForSequenceClassification model).\n"
     ]
    }
   ],
   "source": [
    "my_model = TorchSentimentClassifier()"
   ]
  },
  {
   "cell_type": "code",
   "execution_count": 3,
   "metadata": {},
   "outputs": [],
   "source": [
    "review = \"\"\"\n",
    "I was excited to upgrade to the latest XYZ Smartphone, enticed by its sleek design and promising features. However, my excitement quickly turned into frustration and regret. This device has been nothing short of a disaster.\n",
    "\n",
    "Firstly, the battery life is abysmal. Despite the claims of \"all-day battery life,\" I find myself needing to charge the phone multiple times a day, even with minimal use. It's as if the battery percentage drops just by looking at the phone.\n",
    "\n",
    "The user interface, which was touted as intuitive and user-friendly, is anything but. Navigating through menus feels like a maze, with essential functions buried under layers of unnecessary complexity. The phone also suffers from frequent crashes and freezes, making even the simplest tasks, like sending a text message or browsing the web, a test of patience.\n",
    "\n",
    "Let's talk about the camera - a feature I was particularly excited about. The quality of the photos is shockingly poor. Images are often blurry and lack detail, and the colors are washed out. It's a significant step down from my previous, older smartphone.\n",
    "\n",
    "Customer support has been equally disappointing. My attempts to address these issues were met with long wait times, unhelpful responses, and ultimately, no resolution. It's clear that customer satisfaction is not a priority for this company.\n",
    "\n",
    "To add insult to injury, the phone's build quality is questionable. Within weeks of purchase, the screen developed a crack from a minor fall, despite the company's claims of using \"durable\" materials. The repair costs quoted by the company were exorbitant, making me question the value of their warranty.\n",
    "\n",
    "In summary, the XYZ Smartphone has been an incredibly frustrating experience. It fails to deliver on its promises, with poor performance, unreliable battery life, subpar camera quality, and lackluster customer service. I regret purchasing this device and strongly advise against wasting your money on it. There are far better options available that offer real value and reliability.\n",
    "\"\"\""
   ]
  },
  {
   "cell_type": "code",
   "execution_count": 4,
   "metadata": {},
   "outputs": [
    {
     "data": {
      "text/plain": [
       "(0.7141619324684143, <Sentiment.negative: 'negative'>)"
      ]
     },
     "execution_count": 4,
     "metadata": {},
     "output_type": "execute_result"
    },
    {
     "ename": "",
     "evalue": "",
     "output_type": "error",
     "traceback": [
      "\u001b[1;31mThe Kernel crashed while executing code in the current cell or a previous cell. \n",
      "\u001b[1;31mPlease review the code in the cell(s) to identify a possible cause of the failure. \n",
      "\u001b[1;31mClick <a href='https://aka.ms/vscodeJupyterKernelCrash'>here</a> for more info. \n",
      "\u001b[1;31mView Jupyter <a href='command:jupyter.viewOutput'>log</a> for further details."
     ]
    }
   ],
   "source": [
    "my_model.get_sentiment(review)"
   ]
  },
  {
   "cell_type": "code",
   "execution_count": null,
   "metadata": {},
   "outputs": [],
   "source": []
  }
 ],
 "metadata": {
  "kernelspec": {
   "display_name": ".venv",
   "language": "python",
   "name": "python3"
  },
  "language_info": {
   "codemirror_mode": {
    "name": "ipython",
    "version": 3
   },
   "file_extension": ".py",
   "mimetype": "text/x-python",
   "name": "python",
   "nbconvert_exporter": "python",
   "pygments_lexer": "ipython3",
   "version": "3.10.9"
  }
 },
 "nbformat": 4,
 "nbformat_minor": 2
}
