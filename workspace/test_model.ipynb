{
 "cells": [
  {
   "cell_type": "code",
   "execution_count": 1,
   "metadata": {},
   "outputs": [],
   "source": [
    "from comparison.sentiment import TorchSentimentClassifier\n",
    "from comparison.utils import setup_logging"
   ]
  },
  {
   "cell_type": "code",
   "execution_count": 2,
   "metadata": {},
   "outputs": [],
   "source": [
    "setup_logging()"
   ]
  },
  {
   "cell_type": "code",
   "execution_count": 3,
   "metadata": {},
   "outputs": [
    {
     "name": "stderr",
     "output_type": "stream",
     "text": [
      "INFO:api-comparison:self._model=RobertaForSequenceClassification(\n",
      "  (roberta): RobertaModel(\n",
      "    (embeddings): RobertaEmbeddings(\n",
      "      (word_embeddings): Embedding(50265, 768, padding_idx=1)\n",
      "      (position_embeddings): Embedding(514, 768, padding_idx=1)\n",
      "      (token_type_embeddings): Embedding(1, 768)\n",
      "      (LayerNorm): LayerNorm((768,), eps=1e-05, elementwise_affine=True)\n",
      "      (dropout): Dropout(p=0.1, inplace=False)\n",
      "    )\n",
      "    (encoder): RobertaEncoder(\n",
      "      (layer): ModuleList(\n",
      "        (0-11): 12 x RobertaLayer(\n",
      "          (attention): RobertaAttention(\n",
      "            (self): RobertaSelfAttention(\n",
      "              (query): Linear(in_features=768, out_features=768, bias=True)\n",
      "              (key): Linear(in_features=768, out_features=768, bias=True)\n",
      "              (value): Linear(in_features=768, out_features=768, bias=True)\n",
      "              (dropout): Dropout(p=0.1, inplace=False)\n",
      "            )\n",
      "            (output): RobertaSelfOutput(\n",
      "              (dense): Linear(in_features=768, out_features=768, bias=True)\n",
      "              (LayerNorm): LayerNorm((768,), eps=1e-05, elementwise_affine=True)\n",
      "              (dropout): Dropout(p=0.1, inplace=False)\n",
      "            )\n",
      "          )\n",
      "          (intermediate): RobertaIntermediate(\n",
      "            (dense): Linear(in_features=768, out_features=3072, bias=True)\n",
      "            (intermediate_act_fn): GELUActivation()\n",
      "          )\n",
      "          (output): RobertaOutput(\n",
      "            (dense): Linear(in_features=3072, out_features=768, bias=True)\n",
      "            (LayerNorm): LayerNorm((768,), eps=1e-05, elementwise_affine=True)\n",
      "            (dropout): Dropout(p=0.1, inplace=False)\n",
      "          )\n",
      "        )\n",
      "      )\n",
      "    )\n",
      "  )\n",
      "  (classifier): RobertaClassificationHead(\n",
      "    (dense): Linear(in_features=768, out_features=768, bias=True)\n",
      "    (dropout): Dropout(p=0.1, inplace=False)\n",
      "    (out_proj): Linear(in_features=768, out_features=2, bias=True)\n",
      "  )\n",
      ")\n"
     ]
    }
   ],
   "source": [
    "my_model = TorchSentimentClassifier()"
   ]
  },
  {
   "cell_type": "code",
   "execution_count": 4,
   "metadata": {},
   "outputs": [],
   "source": [
    "review = \"\"\"\n",
    "I was excited to upgrade to the latest XYZ Smartphone, enticed by its sleek design and promising features. However, my excitement quickly turned into frustration and regret. This device has been nothing short of a disaster.\n",
    "\n",
    "Firstly, the battery life is abysmal. Despite the claims of \"all-day battery life,\" I find myself needing to charge the phone multiple times a day, even with minimal use. It's as if the battery percentage drops just by looking at the phone.\n",
    "\n",
    "The user interface, which was touted as intuitive and user-friendly, is anything but. Navigating through menus feels like a maze, with essential functions buried under layers of unnecessary complexity. The phone also suffers from frequent crashes and freezes, making even the simplest tasks, like sending a text message or browsing the web, a test of patience.\n",
    "\n",
    "Let's talk about the camera - a feature I was particularly excited about. The quality of the photos is shockingly poor. Images are often blurry and lack detail, and the colors are washed out. It's a significant step down from my previous, older smartphone.\n",
    "\n",
    "Customer support has been equally disappointing. My attempts to address these issues were met with long wait times, unhelpful responses, and ultimately, no resolution. It's clear that customer satisfaction is not a priority for this company.\n",
    "\n",
    "To add insult to injury, the phone's build quality is questionable. Within weeks of purchase, the screen developed a crack from a minor fall, despite the company's claims of using \"durable\" materials. The repair costs quoted by the company were exorbitant, making me question the value of their warranty.\n",
    "\n",
    "In summary, the XYZ Smartphone has been an incredibly frustrating experience. It fails to deliver on its promises, with poor performance, unreliable battery life, subpar camera quality, and lackluster customer service. I regret purchasing this device and strongly advise against wasting your money on it. There are far better options available that offer real value and reliability.\n",
    "\"\"\""
   ]
  },
  {
   "cell_type": "code",
   "execution_count": 5,
   "metadata": {},
   "outputs": [
    {
     "name": "stderr",
     "output_type": "stream",
     "text": [
      "INFO:api-comparison:Received review: \n",
      "I was excited to upgrade to the latest XYZ Smartphone, enticed by its sleek design and promising features. However, my excitement quickly turned into frustration and regret. This device has been nothing short of a disaster.\n",
      "\n",
      "Firstly, the battery life is abysmal. Despite the claims of \"all-day battery life,\" I find myself needing to charge the phone multiple times a day, even with minimal use. It's as if the battery percentage drops just by looking at the phone.\n",
      "\n",
      "The user interface, which was touted as intuitive and user-friendly, is anything but. Navigating through menus feels like a maze, with essential functions buried under layers of unnecessary complexity. The phone also suffers from frequent crashes and freezes, making even the simplest tasks, like sending a text message or browsing the web, a test of patience.\n",
      "\n",
      "Let's talk about the camera - a feature I was particularly excited about. The quality of the photos is shockingly poor. Images are often blurry and lack detail, and the colors are washed out. It's a significant step down from my previous, older smartphone.\n",
      "\n",
      "Customer support has been equally disappointing. My attempts to address these issues were met with long wait times, unhelpful responses, and ultimately, no resolution. It's clear that customer satisfaction is not a priority for this company.\n",
      "\n",
      "To add insult to injury, the phone's build quality is questionable. Within weeks of purchase, the screen developed a crack from a minor fall, despite the company's claims of using \"durable\" materials. The repair costs quoted by the company were exorbitant, making me question the value of their warranty.\n",
      "\n",
      "In summary, the XYZ Smartphone has been an incredibly frustrating experience. It fails to deliver on its promises, with poor performance, unreliable battery life, subpar camera quality, and lackluster customer service. I regret purchasing this device and strongly advise against wasting your money on it. There are far better options available that offer real value and reliability.\n",
      "\n",
      "INFO:api-comparison:tokenized_text={'input_ids': tensor([[    0, 50118,   100,    21,  2283,     7,  6662,     7,     5,   665,\n",
      "         44977,  1301,  5900, 17283,     6,  3838, 12646,    30,    63, 19474,\n",
      "          1521,     8,  6177,  1575,     4,   635,     6,   127,  8354,  1335,\n",
      "          1224,    88,  8413,     8,  9917,     4,   152,  2187,    34,    57,\n",
      "          1085,   765,     9,    10,  4463,     4, 50118, 50118, 45567,     6,\n",
      "             5,  3822,   301,    16,  4091,  2459, 10417,     4,  2285,     5,\n",
      "          1449,     9,    22,  1250,    12,  1208,  3822,   301,    60,    38,\n",
      "           465,  2185, 12075,     7,  1427,     5,  1028,  1533,   498,    10,\n",
      "           183,     6,   190,    19,  9865,   304,     4,    85,    18,    25,\n",
      "           114,     5,  3822,  3164,  9305,    95,    30,   546,    23,     5,\n",
      "          1028,     4, 50118, 50118,   133,  3018, 12332,     6,    61,    21,\n",
      "         14764,    25, 23837,     8,  3018,    12,  6928,     6,    16,   932,\n",
      "            53,     4,  8236, 31721,   149, 24261,  2653,   101,    10, 33385,\n",
      "             6,    19,  4499,  8047,  8203,   223, 13171,     9, 10495, 13879,\n",
      "             4,    20,  1028,    67, 16061,    31,  7690, 12328,     8, 35084,\n",
      "             6,   442,   190,     5, 31625,  8558,     6,   101,  3981,    10,\n",
      "          2788,  1579,    50, 24033,     5,  3748,     6,    10,  1296,     9,\n",
      "         11383,     4, 50118, 50118,  7939,    18,  1067,    59,     5,  2280,\n",
      "           111,    10,  1905,    38,    21,  1605,  2283,    59,     4,    20,\n",
      "          1318,     9,     5,  2356,    16, 36804,  2129,     4,  2209,    32,\n",
      "           747, 40427,     8,  1762,  4617,     6,     8,     5,  8089,    32,\n",
      "         15158,    66,     4,    85,    18,    10,  1233,  1149,   159,    31,\n",
      "           127,   986,     6,  2530,  4368,     4, 50118, 50118, 44799,   323,\n",
      "            34,    57,  6681,  6770,     4,  1308,  3881,     7,  1100,   209,\n",
      "           743,    58,  1145,    19,   251,  2067,   498,     6,   542, 19178,\n",
      "          2650,  8823,     6,     8,  3284,     6,   117,  3547,     4,    85,\n",
      "            18,   699,    14,  2111, 11658,    16,    45,    10,  3887,    13,\n",
      "            42,   138,     4, 50118, 50118,  3972,  1606, 18566,     7,  1356,\n",
      "             6,     5,  1028,    18,  1119,  1318,    16, 12474,     4,  9842,\n",
      "           688,     9,  2229,     6,     5,  2441,  2226,    10,  7009,    31,\n",
      "            10,  3694,  1136,     6,  1135,     5,   138,    18,  1449,     9,\n",
      "           634,    22,   417, 24517,   113,  3183,     4,    20,  5989,  1042,\n",
      "          5304,    30,     5,   138,    58,  1931, 31183,   927,     6,   442,\n",
      "           162,   864,     5,   923,     9,    49, 21784,     4, 50118, 50118,\n",
      "          1121,  4819,     6,     5, 44977,  1301,  5900, 17283,    34,    57,\n",
      "            41,  5784, 10314,   676,     4,    85, 10578,     7,  2438,    15,\n",
      "            63,  5343,     6,    19,  2129,   819,     6, 31298,  3822,   301,\n",
      "             6,  2849,  5489,  2280,  1318,     6,     8, 28369,  2111,   544,\n",
      "             4,    38,  9917,  4906,    42,  2187,     8,  5025, 12922,   136,\n",
      "         21025,   110,   418,    15,    24,     4,   345,    32,   444,   357,\n",
      "          1735,   577,    14,   904,   588,   923,     8, 13677,     4, 50118,\n",
      "             2]]), 'attention_mask': tensor([[1, 1, 1, 1, 1, 1, 1, 1, 1, 1, 1, 1, 1, 1, 1, 1, 1, 1, 1, 1, 1, 1, 1, 1,\n",
      "         1, 1, 1, 1, 1, 1, 1, 1, 1, 1, 1, 1, 1, 1, 1, 1, 1, 1, 1, 1, 1, 1, 1, 1,\n",
      "         1, 1, 1, 1, 1, 1, 1, 1, 1, 1, 1, 1, 1, 1, 1, 1, 1, 1, 1, 1, 1, 1, 1, 1,\n",
      "         1, 1, 1, 1, 1, 1, 1, 1, 1, 1, 1, 1, 1, 1, 1, 1, 1, 1, 1, 1, 1, 1, 1, 1,\n",
      "         1, 1, 1, 1, 1, 1, 1, 1, 1, 1, 1, 1, 1, 1, 1, 1, 1, 1, 1, 1, 1, 1, 1, 1,\n",
      "         1, 1, 1, 1, 1, 1, 1, 1, 1, 1, 1, 1, 1, 1, 1, 1, 1, 1, 1, 1, 1, 1, 1, 1,\n",
      "         1, 1, 1, 1, 1, 1, 1, 1, 1, 1, 1, 1, 1, 1, 1, 1, 1, 1, 1, 1, 1, 1, 1, 1,\n",
      "         1, 1, 1, 1, 1, 1, 1, 1, 1, 1, 1, 1, 1, 1, 1, 1, 1, 1, 1, 1, 1, 1, 1, 1,\n",
      "         1, 1, 1, 1, 1, 1, 1, 1, 1, 1, 1, 1, 1, 1, 1, 1, 1, 1, 1, 1, 1, 1, 1, 1,\n",
      "         1, 1, 1, 1, 1, 1, 1, 1, 1, 1, 1, 1, 1, 1, 1, 1, 1, 1, 1, 1, 1, 1, 1, 1,\n",
      "         1, 1, 1, 1, 1, 1, 1, 1, 1, 1, 1, 1, 1, 1, 1, 1, 1, 1, 1, 1, 1, 1, 1, 1,\n",
      "         1, 1, 1, 1, 1, 1, 1, 1, 1, 1, 1, 1, 1, 1, 1, 1, 1, 1, 1, 1, 1, 1, 1, 1,\n",
      "         1, 1, 1, 1, 1, 1, 1, 1, 1, 1, 1, 1, 1, 1, 1, 1, 1, 1, 1, 1, 1, 1, 1, 1,\n",
      "         1, 1, 1, 1, 1, 1, 1, 1, 1, 1, 1, 1, 1, 1, 1, 1, 1, 1, 1, 1, 1, 1, 1, 1,\n",
      "         1, 1, 1, 1, 1, 1, 1, 1, 1, 1, 1, 1, 1, 1, 1, 1, 1, 1, 1, 1, 1, 1, 1, 1,\n",
      "         1, 1, 1, 1, 1, 1, 1, 1, 1, 1, 1, 1, 1, 1, 1, 1, 1, 1, 1, 1, 1, 1, 1, 1,\n",
      "         1, 1, 1, 1, 1, 1, 1, 1, 1, 1, 1, 1, 1, 1, 1, 1, 1, 1, 1, 1, 1, 1, 1, 1,\n",
      "         1, 1, 1]])}\n",
      "INFO:api-comparison:result=SequenceClassifierOutput(loss=None, logits=tensor([[0.2801, 0.2592]], grad_fn=<AddmmBackward0>), hidden_states=None, attentions=None)\n"
     ]
    },
    {
     "data": {
      "text/plain": [
       "(0.8, <Sentiment.negative: 'negative'>)"
      ]
     },
     "execution_count": 5,
     "metadata": {},
     "output_type": "execute_result"
    }
   ],
   "source": [
    "my_model.get_sentiment(review)"
   ]
  },
  {
   "cell_type": "code",
   "execution_count": null,
   "metadata": {},
   "outputs": [],
   "source": []
  }
 ],
 "metadata": {
  "kernelspec": {
   "display_name": ".venv",
   "language": "python",
   "name": "python3"
  },
  "language_info": {
   "codemirror_mode": {
    "name": "ipython",
    "version": 3
   },
   "file_extension": ".py",
   "mimetype": "text/x-python",
   "name": "python",
   "nbconvert_exporter": "python",
   "pygments_lexer": "ipython3",
   "version": "3.10.9"
  }
 },
 "nbformat": 4,
 "nbformat_minor": 2
}
